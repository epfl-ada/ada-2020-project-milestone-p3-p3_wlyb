{
 "cells": [
  {
   "cell_type": "code",
   "execution_count": 59,
   "metadata": {},
   "outputs": [],
   "source": [
    "import glob\n",
    "import pandas as pd\n",
    "import numpy as np\n",
    "import re"
   ]
  },
  {
   "cell_type": "markdown",
   "metadata": {},
   "source": [
    "# Project idea and description...\n",
    "\n",
    "\n",
    "Tadatadatada"
   ]
  },
  {
   "cell_type": "markdown",
   "metadata": {},
   "source": [
    "# Data aquisition\n",
    "\n",
    "In the first ... \n",
    "\n",
    "We need to get all the following keywords from twitter :\n",
    "\n",
    "abu sayyaf,\n",
    "afghanistan,\n",
    "agro,\n",
    "al-qaeda,\n",
    "al-qaeda in the arabian peninsula,\n",
    "al-qaeda in the islamic maghreb,\n",
    "al-shabaab,\n",
    "ammonium nitrate,\n",
    "attack,\n",
    "biological weapon,\n",
    "car bomb,\n",
    "chemical weapon,\n",
    "conventional weapon,\n",
    "dirty bomb,\n",
    "eco-terrorism,\n",
    "environmental terrorism,\n",
    "euskadi ta askatasuna,\n",
    "extremism,\n",
    "farc,\n",
    "fundamentalism,\n",
    "hamas,\n",
    "hezbollah,\n",
    "improvised explosive device,\n",
    "iran,\n",
    "iraq,\n",
    "irish republican army,\n",
    "islamist,\n",
    "jihad,\n",
    "nationalism,\n",
    "nigeria,\n",
    "nuclear,\n",
    "nuclear enrichment,\n",
    "pakistan,\n",
    "palestine liberation front,\n",
    "pirates,\n",
    "plo,\n",
    "political radicalism,\n",
    "recruitment,\n",
    "somalia,\n",
    "suicide attack,\n",
    "suicide bomber,\n",
    "taliban,\n",
    "tamil tigers,\n",
    "tehrik-i-taliban pakistan,\n",
    "terror,\n",
    "terrorism,\n",
    "weapons-grade,\n",
    "yemen,"
   ]
  },
  {
   "cell_type": "markdown",
   "metadata": {},
   "source": [
    "## Analysis of the tweets\n",
    "\n",
    "### Interrupted time series with regression\n",
    "We will now focus on getting an understanding of the tweet distribution over time, and how the massive revelations of online surveillance in June 2013 might have caused a chilling effect. We will follow the paper's original way of doing the interrupted time series, with regression analysis."
   ]
  },
  {
   "cell_type": "markdown",
   "metadata": {},
   "source": [
    "First, let's see what those big files yield by reading one. We need to first find all the archives."
   ]
  },
  {
   "cell_type": "code",
   "execution_count": 42,
   "metadata": {},
   "outputs": [
    {
     "name": "stdout",
     "output_type": "stream",
     "text": [
      "Found 44 archives\n"
     ]
    }
   ],
   "source": [
    "archive_pathnames = glob.glob('./data/*.gz')\n",
    "print(f\"Found {len(archive_pathnames)} archives\")"
   ]
  },
  {
   "cell_type": "markdown",
   "metadata": {},
   "source": [
    "Now, what is in the first archive ?"
   ]
  },
  {
   "cell_type": "code",
   "execution_count": 46,
   "metadata": {},
   "outputs": [
    {
     "name": "stdout",
     "output_type": "stream",
     "text": [
      "(9299, 22)\n"
     ]
    },
    {
     "data": {
      "text/html": [
       "<div>\n",
       "<style scoped>\n",
       "    .dataframe tbody tr th:only-of-type {\n",
       "        vertical-align: middle;\n",
       "    }\n",
       "\n",
       "    .dataframe tbody tr th {\n",
       "        vertical-align: top;\n",
       "    }\n",
       "\n",
       "    .dataframe thead th {\n",
       "        text-align: right;\n",
       "    }\n",
       "</style>\n",
       "<table border=\"1\" class=\"dataframe\">\n",
       "  <thead>\n",
       "    <tr style=\"text-align: right;\">\n",
       "      <th></th>\n",
       "      <th>id</th>\n",
       "      <th>conversation_id</th>\n",
       "      <th>created_at</th>\n",
       "      <th>date</th>\n",
       "      <th>time</th>\n",
       "      <th>user_id</th>\n",
       "      <th>username</th>\n",
       "      <th>name</th>\n",
       "      <th>tweet</th>\n",
       "      <th>language</th>\n",
       "      <th>...</th>\n",
       "      <th>photos</th>\n",
       "      <th>replies_count</th>\n",
       "      <th>retweets_count</th>\n",
       "      <th>likes_count</th>\n",
       "      <th>hashtags</th>\n",
       "      <th>link</th>\n",
       "      <th>retweet</th>\n",
       "      <th>video</th>\n",
       "      <th>thumbnail</th>\n",
       "      <th>reply_to</th>\n",
       "    </tr>\n",
       "  </thead>\n",
       "  <tbody>\n",
       "    <tr>\n",
       "      <th>0</th>\n",
       "      <td>506278868614148097</td>\n",
       "      <td>506278868614148097</td>\n",
       "      <td>2014-09-01 05:14:23 CEST</td>\n",
       "      <td>2014-09-01</td>\n",
       "      <td>05:14:23</td>\n",
       "      <td>8.343178e+07</td>\n",
       "      <td>starman1981</td>\n",
       "      <td>truckerstrong news</td>\n",
       "      <td>ISIS laptop reveals terror group were working ...</td>\n",
       "      <td>en</td>\n",
       "      <td>...</td>\n",
       "      <td>[]</td>\n",
       "      <td>0</td>\n",
       "      <td>0.0</td>\n",
       "      <td>0.0</td>\n",
       "      <td>[]</td>\n",
       "      <td>https://twitter.com/starman1981/status/5062788...</td>\n",
       "      <td>False</td>\n",
       "      <td>False</td>\n",
       "      <td>NaN</td>\n",
       "      <td>[]</td>\n",
       "    </tr>\n",
       "    <tr>\n",
       "      <th>1</th>\n",
       "      <td>506272708037214208</td>\n",
       "      <td>506272708037214208</td>\n",
       "      <td>2014-09-01 04:49:54 CEST</td>\n",
       "      <td>2014-09-01</td>\n",
       "      <td>04:49:54</td>\n",
       "      <td>7.134575e+08</td>\n",
       "      <td>patriotsorg</td>\n",
       "      <td>Patriots Billboard</td>\n",
       "      <td>#SEIZED ISIS LAPTOP REVEALS THEY’RE DEVELOPING...</td>\n",
       "      <td>en</td>\n",
       "      <td>...</td>\n",
       "      <td>[]</td>\n",
       "      <td>0</td>\n",
       "      <td>3.0</td>\n",
       "      <td>1.0</td>\n",
       "      <td>['seized']</td>\n",
       "      <td>https://twitter.com/PatriotsOrg/status/5062727...</td>\n",
       "      <td>False</td>\n",
       "      <td>False</td>\n",
       "      <td>NaN</td>\n",
       "      <td>[]</td>\n",
       "    </tr>\n",
       "    <tr>\n",
       "      <th>2</th>\n",
       "      <td>506263382459428864</td>\n",
       "      <td>506263382459428864</td>\n",
       "      <td>2014-09-01 04:12:50 CEST</td>\n",
       "      <td>2014-09-01</td>\n",
       "      <td>04:12:50</td>\n",
       "      <td>2.630728e+08</td>\n",
       "      <td>mlgeek</td>\n",
       "      <td>My Little Geek</td>\n",
       "      <td>@bjorntipling Perhaps Swift is a biological we...</td>\n",
       "      <td>en</td>\n",
       "      <td>...</td>\n",
       "      <td>[]</td>\n",
       "      <td>0</td>\n",
       "      <td>0.0</td>\n",
       "      <td>0.0</td>\n",
       "      <td>[]</td>\n",
       "      <td>https://twitter.com/mlgeek/status/506263382459...</td>\n",
       "      <td>False</td>\n",
       "      <td>False</td>\n",
       "      <td>NaN</td>\n",
       "      <td>[]</td>\n",
       "    </tr>\n",
       "    <tr>\n",
       "      <th>3</th>\n",
       "      <td>506261754197061632</td>\n",
       "      <td>506261754197061632</td>\n",
       "      <td>2014-09-01 04:06:22 CEST</td>\n",
       "      <td>2014-09-01</td>\n",
       "      <td>04:06:22</td>\n",
       "      <td>2.510451e+09</td>\n",
       "      <td>msgubot</td>\n",
       "      <td>Cédric Moro (backup)</td>\n",
       "      <td>G+ #ebola USA created Ebola virus as biologica...</td>\n",
       "      <td>en</td>\n",
       "      <td>...</td>\n",
       "      <td>[]</td>\n",
       "      <td>0</td>\n",
       "      <td>0.0</td>\n",
       "      <td>0.0</td>\n",
       "      <td>['ebola']</td>\n",
       "      <td>https://twitter.com/MSGUBOT/status/50626175419...</td>\n",
       "      <td>False</td>\n",
       "      <td>False</td>\n",
       "      <td>NaN</td>\n",
       "      <td>[]</td>\n",
       "    </tr>\n",
       "    <tr>\n",
       "      <th>4</th>\n",
       "      <td>506239829819281408</td>\n",
       "      <td>506239829819281408</td>\n",
       "      <td>2014-09-01 02:39:15 CEST</td>\n",
       "      <td>2014-09-01</td>\n",
       "      <td>02:39:15</td>\n",
       "      <td>7.134575e+08</td>\n",
       "      <td>patriotsorg</td>\n",
       "      <td>Patriots Billboard</td>\n",
       "      <td>#SEIZED ISIS LAPTOP REVEALS THEY’RE DEVELOPING...</td>\n",
       "      <td>en</td>\n",
       "      <td>...</td>\n",
       "      <td>[]</td>\n",
       "      <td>1</td>\n",
       "      <td>2.0</td>\n",
       "      <td>1.0</td>\n",
       "      <td>['seized']</td>\n",
       "      <td>https://twitter.com/PatriotsOrg/status/5062398...</td>\n",
       "      <td>False</td>\n",
       "      <td>False</td>\n",
       "      <td>NaN</td>\n",
       "      <td>[]</td>\n",
       "    </tr>\n",
       "  </tbody>\n",
       "</table>\n",
       "<p>5 rows × 22 columns</p>\n",
       "</div>"
      ],
      "text/plain": [
       "                   id     conversation_id                created_at  \\\n",
       "0  506278868614148097  506278868614148097  2014-09-01 05:14:23 CEST   \n",
       "1  506272708037214208  506272708037214208  2014-09-01 04:49:54 CEST   \n",
       "2  506263382459428864  506263382459428864  2014-09-01 04:12:50 CEST   \n",
       "3  506261754197061632  506261754197061632  2014-09-01 04:06:22 CEST   \n",
       "4  506239829819281408  506239829819281408  2014-09-01 02:39:15 CEST   \n",
       "\n",
       "         date      time       user_id     username                  name  \\\n",
       "0  2014-09-01  05:14:23  8.343178e+07  starman1981    truckerstrong news   \n",
       "1  2014-09-01  04:49:54  7.134575e+08  patriotsorg    Patriots Billboard   \n",
       "2  2014-09-01  04:12:50  2.630728e+08       mlgeek        My Little Geek   \n",
       "3  2014-09-01  04:06:22  2.510451e+09      msgubot  Cédric Moro (backup)   \n",
       "4  2014-09-01  02:39:15  7.134575e+08  patriotsorg    Patriots Billboard   \n",
       "\n",
       "                                               tweet language  ... photos  \\\n",
       "0  ISIS laptop reveals terror group were working ...       en  ...     []   \n",
       "1  #SEIZED ISIS LAPTOP REVEALS THEY’RE DEVELOPING...       en  ...     []   \n",
       "2  @bjorntipling Perhaps Swift is a biological we...       en  ...     []   \n",
       "3  G+ #ebola USA created Ebola virus as biologica...       en  ...     []   \n",
       "4  #SEIZED ISIS LAPTOP REVEALS THEY’RE DEVELOPING...       en  ...     []   \n",
       "\n",
       "  replies_count retweets_count likes_count    hashtags  \\\n",
       "0             0            0.0         0.0          []   \n",
       "1             0            3.0         1.0  ['seized']   \n",
       "2             0            0.0         0.0          []   \n",
       "3             0            0.0         0.0   ['ebola']   \n",
       "4             1            2.0         1.0  ['seized']   \n",
       "\n",
       "                                                link retweet  video thumbnail  \\\n",
       "0  https://twitter.com/starman1981/status/5062788...   False  False       NaN   \n",
       "1  https://twitter.com/PatriotsOrg/status/5062727...   False  False       NaN   \n",
       "2  https://twitter.com/mlgeek/status/506263382459...   False  False       NaN   \n",
       "3  https://twitter.com/MSGUBOT/status/50626175419...   False  False       NaN   \n",
       "4  https://twitter.com/PatriotsOrg/status/5062398...   False  False       NaN   \n",
       "\n",
       "  reply_to  \n",
       "0       []  \n",
       "1       []  \n",
       "2       []  \n",
       "3       []  \n",
       "4       []  \n",
       "\n",
       "[5 rows x 22 columns]"
      ]
     },
     "execution_count": 46,
     "metadata": {},
     "output_type": "execute_result"
    }
   ],
   "source": [
    "df = pd.read_csv(archive_pathnames[0])\n",
    "print(df.shape)\n",
    "df.head()"
   ]
  },
  {
   "cell_type": "markdown",
   "metadata": {},
   "source": [
    "We see a lot of information there. But what we are interested in is the user interactions around a topic that they might the government to track, for example. Therefore, we can count the number of tweets themselves, not any of their content or information, but also the number of likes and rerplies ! Each of these actions can make the user fear such surveillance. Retweets also, but because we also collect the retweets themselves, they are already there ! Therefore, we will first count the number of tweets per month, with the number of likes and retweets added as well."
   ]
  },
  {
   "cell_type": "code",
   "execution_count": 58,
   "metadata": {},
   "outputs": [
    {
     "data": {
      "text/html": [
       "<div>\n",
       "<style scoped>\n",
       "    .dataframe tbody tr th:only-of-type {\n",
       "        vertical-align: middle;\n",
       "    }\n",
       "\n",
       "    .dataframe tbody tr th {\n",
       "        vertical-align: top;\n",
       "    }\n",
       "\n",
       "    .dataframe thead th {\n",
       "        text-align: right;\n",
       "    }\n",
       "</style>\n",
       "<table border=\"1\" class=\"dataframe\">\n",
       "  <thead>\n",
       "    <tr style=\"text-align: right;\">\n",
       "      <th></th>\n",
       "      <th>replies_count</th>\n",
       "      <th>likes_count</th>\n",
       "      <th>tweet_count</th>\n",
       "      <th>user_interactions</th>\n",
       "    </tr>\n",
       "    <tr>\n",
       "      <th>date</th>\n",
       "      <th></th>\n",
       "      <th></th>\n",
       "      <th></th>\n",
       "      <th></th>\n",
       "    </tr>\n",
       "  </thead>\n",
       "  <tbody>\n",
       "    <tr>\n",
       "      <th>2012-01-31</th>\n",
       "      <td>49</td>\n",
       "      <td>51</td>\n",
       "      <td>207</td>\n",
       "      <td>307</td>\n",
       "    </tr>\n",
       "    <tr>\n",
       "      <th>2012-02-29</th>\n",
       "      <td>33</td>\n",
       "      <td>27</td>\n",
       "      <td>177</td>\n",
       "      <td>237</td>\n",
       "    </tr>\n",
       "    <tr>\n",
       "      <th>2012-03-31</th>\n",
       "      <td>37</td>\n",
       "      <td>10</td>\n",
       "      <td>192</td>\n",
       "      <td>239</td>\n",
       "    </tr>\n",
       "    <tr>\n",
       "      <th>2012-04-30</th>\n",
       "      <td>40</td>\n",
       "      <td>32</td>\n",
       "      <td>156</td>\n",
       "      <td>228</td>\n",
       "    </tr>\n",
       "    <tr>\n",
       "      <th>2012-05-31</th>\n",
       "      <td>46</td>\n",
       "      <td>17</td>\n",
       "      <td>237</td>\n",
       "      <td>300</td>\n",
       "    </tr>\n",
       "  </tbody>\n",
       "</table>\n",
       "</div>"
      ],
      "text/plain": [
       "            replies_count  likes_count  tweet_count  user_interactions\n",
       "date                                                                  \n",
       "2012-01-31             49           51          207                307\n",
       "2012-02-29             33           27          177                237\n",
       "2012-03-31             37           10          192                239\n",
       "2012-04-30             40           32          156                228\n",
       "2012-05-31             46           17          237                300"
      ]
     },
     "execution_count": 58,
     "metadata": {},
     "output_type": "execute_result"
    }
   ],
   "source": [
    "# Keep only interesting columns and sum them all together by month. We set to parse dates so we can group by month\n",
    "df = pd.read_csv(archive_pathnames[0], usecols=[\"date\", \"likes_count\", \"replies_count\"], parse_dates=[\"date\"], lineterminator='\\n')\n",
    "df[\"tweet_count\"] = 1\n",
    "grouped_df = df.set_index('date').groupby(pd.Grouper(freq='M')).sum()\n",
    "grouped_df[\"user_interactions\"] = grouped_df[\"likes_count\"] +  grouped_df[\"tweet_count\"] +  grouped_df[\"replies_count\"]\n",
    "\n",
    "grouped_df.head()"
   ]
  },
  {
   "cell_type": "markdown",
   "metadata": {},
   "source": [
    "We will want to merge all twitter keyworkds into the same dataframe, therefore we will give the name of the keywork to the column where all values are summed, instead of just user_interactions. Let's extract the name from the archive path."
   ]
  },
  {
   "cell_type": "code",
   "execution_count": 60,
   "metadata": {},
   "outputs": [
    {
     "name": "stdout",
     "output_type": "stream",
     "text": [
      "./data/biological weapon_full.gz\n"
     ]
    }
   ],
   "source": [
    "print(archive_pathnames[0])"
   ]
  },
  {
   "cell_type": "code",
   "execution_count": 61,
   "metadata": {},
   "outputs": [
    {
     "data": {
      "text/plain": [
       "'biological weapon'"
      ]
     },
     "execution_count": 61,
     "metadata": {},
     "output_type": "execute_result"
    }
   ],
   "source": [
    "# Knowing what the file path looks like, we can extract the name\n",
    "name = re.search(r\"(?<=data/).*?(?=_full)\", archive_pathnames[0]).group(0)\n",
    "name"
   ]
  },
  {
   "cell_type": "code",
   "execution_count": 64,
   "metadata": {},
   "outputs": [
    {
     "data": {
      "text/html": [
       "<div>\n",
       "<style scoped>\n",
       "    .dataframe tbody tr th:only-of-type {\n",
       "        vertical-align: middle;\n",
       "    }\n",
       "\n",
       "    .dataframe tbody tr th {\n",
       "        vertical-align: top;\n",
       "    }\n",
       "\n",
       "    .dataframe thead th {\n",
       "        text-align: right;\n",
       "    }\n",
       "</style>\n",
       "<table border=\"1\" class=\"dataframe\">\n",
       "  <thead>\n",
       "    <tr style=\"text-align: right;\">\n",
       "      <th></th>\n",
       "      <th>replies_count</th>\n",
       "      <th>likes_count</th>\n",
       "      <th>tweet_count</th>\n",
       "      <th>biological weapon</th>\n",
       "    </tr>\n",
       "    <tr>\n",
       "      <th>date</th>\n",
       "      <th></th>\n",
       "      <th></th>\n",
       "      <th></th>\n",
       "      <th></th>\n",
       "    </tr>\n",
       "  </thead>\n",
       "  <tbody>\n",
       "    <tr>\n",
       "      <th>2012-01-31</th>\n",
       "      <td>49</td>\n",
       "      <td>51</td>\n",
       "      <td>207</td>\n",
       "      <td>307</td>\n",
       "    </tr>\n",
       "    <tr>\n",
       "      <th>2012-02-29</th>\n",
       "      <td>33</td>\n",
       "      <td>27</td>\n",
       "      <td>177</td>\n",
       "      <td>237</td>\n",
       "    </tr>\n",
       "    <tr>\n",
       "      <th>2012-03-31</th>\n",
       "      <td>37</td>\n",
       "      <td>10</td>\n",
       "      <td>192</td>\n",
       "      <td>239</td>\n",
       "    </tr>\n",
       "    <tr>\n",
       "      <th>2012-04-30</th>\n",
       "      <td>40</td>\n",
       "      <td>32</td>\n",
       "      <td>156</td>\n",
       "      <td>228</td>\n",
       "    </tr>\n",
       "    <tr>\n",
       "      <th>2012-05-31</th>\n",
       "      <td>46</td>\n",
       "      <td>17</td>\n",
       "      <td>237</td>\n",
       "      <td>300</td>\n",
       "    </tr>\n",
       "  </tbody>\n",
       "</table>\n",
       "</div>"
      ],
      "text/plain": [
       "            replies_count  likes_count  tweet_count  biological weapon\n",
       "date                                                                  \n",
       "2012-01-31             49           51          207                307\n",
       "2012-02-29             33           27          177                237\n",
       "2012-03-31             37           10          192                239\n",
       "2012-04-30             40           32          156                228\n",
       "2012-05-31             46           17          237                300"
      ]
     },
     "execution_count": 64,
     "metadata": {},
     "output_type": "execute_result"
    }
   ],
   "source": [
    "# Just set this name to the column and go to the next zip !\n",
    "grouped_df.rename(columns={\"user_interactions\": name}, inplace=True)\n",
    "grouped_df.head()"
   ]
  },
  {
   "cell_type": "markdown",
   "metadata": {},
   "source": [
    "Let's now implement a for loop to aggregate all the data."
   ]
  },
  {
   "cell_type": "code",
   "execution_count": null,
   "metadata": {},
   "outputs": [],
   "source": [
    "# print(pd.read_csv(archive_pathnames[0], usecols=[\"date\", \"likes_count\"]))\n",
    "monthly_counts = pd.DataFrame([])\n",
    "\n",
    "for archive_pathname in archive_pathnames:\n",
    "    print(f\"Reading {archive_pathname} file\")\n",
    "    df = pd.read_csv(archive_pathname, usecols=[\"date\", \"likes_count\", \"replies_count\"], parse_dates=[\"date\"], lineterminator='\\n')\n",
    "    print(f\"Shape is : {df.shape} \\n\")\n",
    "\n",
    "    df[\"tweet_count\"] = 1\n",
    "    df = df.set_index('date').groupby(pd.Grouper(freq='M')).sum()\n",
    "    df[\"user_interactions\"] = df[\"likes_count\"] +  df[\"tweet_count\"] +  df[\"replies_count\"]\n",
    "    name = re.search(r\"(?<=data/).*?(?=_full)\", archive_pathname).group(0)\n",
    "\n",
    "    df.rename(columns={\"user_interactions\": name}, inplace=True)\n",
    "    \n",
    "    monthly_counts = pd.concat([monthly_counts, df[name]], axis=1)"
   ]
  },
  {
   "cell_type": "code",
   "execution_count": 76,
   "metadata": {},
   "outputs": [
    {
     "name": "stdout",
     "output_type": "stream",
     "text": [
      "We have 130.87 million actions !\n"
     ]
    }
   ],
   "source": [
    "print(f\"We have {np.round(monthly_counts.sum().sum()/1000000, 2)} million actions !\")"
   ]
  },
  {
   "cell_type": "code",
   "execution_count": null,
   "metadata": {},
   "outputs": [],
   "source": []
  }
 ],
 "metadata": {
  "environment": {
   "name": "common-cpu.m59",
   "type": "gcloud",
   "uri": "gcr.io/deeplearning-platform-release/base-cpu:m59"
  },
  "kernelspec": {
   "display_name": "Python 3",
   "language": "python",
   "name": "python3"
  },
  "language_info": {
   "codemirror_mode": {
    "name": "ipython",
    "version": 3
   },
   "file_extension": ".py",
   "mimetype": "text/x-python",
   "name": "python",
   "nbconvert_exporter": "python",
   "pygments_lexer": "ipython3",
   "version": "3.7.8"
  }
 },
 "nbformat": 4,
 "nbformat_minor": 4
}
