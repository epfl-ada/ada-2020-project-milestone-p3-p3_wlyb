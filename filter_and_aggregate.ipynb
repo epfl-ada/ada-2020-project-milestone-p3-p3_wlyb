{
 "cells": [
  {
   "cell_type": "markdown",
   "source": [
    "## Filter the data by language and aggregate the useful values"
   ],
   "metadata": {
    "collapsed": false
   }
  },
  {
   "cell_type": "code",
   "execution_count": null,
   "outputs": [],
   "source": [
    "# import necessary modules\n",
    "import pandas as pd\n",
    "from os import scandir"
   ],
   "metadata": {
    "collapsed": false,
    "pycharm": {
     "name": "#%%\n"
    }
   }
  },
  {
   "cell_type": "code",
   "source": [
    "data_folder = './data/'\n",
    "dir = scandir(data_folder)\n",
    "# Boolean flag to diffrentiate the first file\n",
    "first = True\n",
    "for elem in dir:\n",
    "    df = pd.read_csv(data_folder+elem.name, encoding='UTF-8', compression='gzip', parse_dates=['date'], infer_datetime_format=True)\n",
    "    df = df[df.language == 'en']\n",
    "    groupby = df.groupby(pd.Grouper(key='date', freq='d'))\n",
    "    counts = groupby.agg('count').reset_index()[['date', 'tweet']]\n",
    "    sums = groupby.agg('sum').reset_index()[['date', 'likes_count', 'replies_count', 'retweets_count']]\n",
    "    counts = counts.merge(sums, on='date')\n",
    "\n",
    "    if first:\n",
    "        first_str = elem.name.split('_')[0]\n",
    "        first = False\n",
    "        agg = counts.copy()\n",
    "    else:\n",
    "        agg = agg.merge(counts, how='outer', on='date', suffixes=(None, '_'+elem.name.split('_')[0])).fillna(0)\n",
    "\n",
    "new_cols = [agg.columns[0]]\n",
    "new_cols.extend([x + f'_{first_str}' for x in agg.columns[1:5]])\n",
    "new_cols.extend(agg.columns[5:])\n",
    "agg.columns = new_cols\n",
    "\n",
    "agg.to_csv(data_folder+'aggregated.csv',) #compression is no longer needed"
   ],
   "metadata": {
    "collapsed": false,
    "pycharm": {
     "name": "#%% \n"
    }
   },
   "execution_count": null,
   "outputs": []
  },
  {
   "cell_type": "code",
   "execution_count": 27,
   "outputs": [
    {
     "data": {
      "text/plain": "   Unnamed: 0        date  tweet_abu sayyaf  likes_count_abu sayyaf  \\\n0           0  2012-01-01               6.0                     0.0   \n1           1  2012-01-02               0.0                     0.0   \n2           2  2012-01-03               2.0                     0.0   \n3           3  2012-01-04               2.0                     0.0   \n4           4  2012-01-05               9.0                     0.0   \n\n   replies_count_abu sayyaf  retweets_count_abu sayyaf  tweet_agro  \\\n0                       0.0                        0.0          79   \n1                       0.0                        0.0         180   \n2                       0.0                        0.0         186   \n3                       0.0                        0.0         211   \n4                       0.0                        0.0         204   \n\n   likes_count_agro  replies_count_agro  retweets_count_agro  ...  \\\n0               0.0                10.0                  5.0  ...   \n1               0.0                42.0                  6.0  ...   \n2               5.0                40.0                 13.0  ...   \n3               1.0                27.0                  3.0  ...   \n4               0.0                41.0                  8.0  ...   \n\n   replies_count_tehrik-i-taliban pakistan  \\\n0                                      0.0   \n1                                      0.0   \n2                                      0.0   \n3                                      0.0   \n4                                      0.0   \n\n   retweets_count_tehrik-i-taliban pakistan  tweet_weapons-grade  \\\n0                                       0.0                   17   \n1                                       0.0                   12   \n2                                       0.0                    9   \n3                                       0.0                   11   \n4                                       0.0                   11   \n\n   likes_count_weapons-grade  replies_count_weapons-grade  \\\n0                        1.0                          5.0   \n1                        0.0                          8.0   \n2                        0.0                          2.0   \n3                        1.0                          0.0   \n4                        0.0                          2.0   \n\n   retweets_count_weapons-grade  tweet_yemen  likes_count_yemen  \\\n0                           2.0         1583               60.0   \n1                           4.0         1647               59.0   \n2                           2.0         1461               51.0   \n3                           5.0         1680               57.0   \n4                           0.0         1694               43.0   \n\n   replies_count_yemen  retweets_count_yemen  \n0                105.0                 544.0  \n1                129.0                 572.0  \n2                138.0                 437.0  \n3                114.0                 586.0  \n4                120.0                 436.0  \n\n[5 rows x 142 columns]",
      "text/html": "<div>\n<style scoped>\n    .dataframe tbody tr th:only-of-type {\n        vertical-align: middle;\n    }\n\n    .dataframe tbody tr th {\n        vertical-align: top;\n    }\n\n    .dataframe thead th {\n        text-align: right;\n    }\n</style>\n<table border=\"1\" class=\"dataframe\">\n  <thead>\n    <tr style=\"text-align: right;\">\n      <th></th>\n      <th>Unnamed: 0</th>\n      <th>date</th>\n      <th>tweet_abu sayyaf</th>\n      <th>likes_count_abu sayyaf</th>\n      <th>replies_count_abu sayyaf</th>\n      <th>retweets_count_abu sayyaf</th>\n      <th>tweet_agro</th>\n      <th>likes_count_agro</th>\n      <th>replies_count_agro</th>\n      <th>retweets_count_agro</th>\n      <th>...</th>\n      <th>replies_count_tehrik-i-taliban pakistan</th>\n      <th>retweets_count_tehrik-i-taliban pakistan</th>\n      <th>tweet_weapons-grade</th>\n      <th>likes_count_weapons-grade</th>\n      <th>replies_count_weapons-grade</th>\n      <th>retweets_count_weapons-grade</th>\n      <th>tweet_yemen</th>\n      <th>likes_count_yemen</th>\n      <th>replies_count_yemen</th>\n      <th>retweets_count_yemen</th>\n    </tr>\n  </thead>\n  <tbody>\n    <tr>\n      <th>0</th>\n      <td>0</td>\n      <td>2012-01-01</td>\n      <td>6.0</td>\n      <td>0.0</td>\n      <td>0.0</td>\n      <td>0.0</td>\n      <td>79</td>\n      <td>0.0</td>\n      <td>10.0</td>\n      <td>5.0</td>\n      <td>...</td>\n      <td>0.0</td>\n      <td>0.0</td>\n      <td>17</td>\n      <td>1.0</td>\n      <td>5.0</td>\n      <td>2.0</td>\n      <td>1583</td>\n      <td>60.0</td>\n      <td>105.0</td>\n      <td>544.0</td>\n    </tr>\n    <tr>\n      <th>1</th>\n      <td>1</td>\n      <td>2012-01-02</td>\n      <td>0.0</td>\n      <td>0.0</td>\n      <td>0.0</td>\n      <td>0.0</td>\n      <td>180</td>\n      <td>0.0</td>\n      <td>42.0</td>\n      <td>6.0</td>\n      <td>...</td>\n      <td>0.0</td>\n      <td>0.0</td>\n      <td>12</td>\n      <td>0.0</td>\n      <td>8.0</td>\n      <td>4.0</td>\n      <td>1647</td>\n      <td>59.0</td>\n      <td>129.0</td>\n      <td>572.0</td>\n    </tr>\n    <tr>\n      <th>2</th>\n      <td>2</td>\n      <td>2012-01-03</td>\n      <td>2.0</td>\n      <td>0.0</td>\n      <td>0.0</td>\n      <td>0.0</td>\n      <td>186</td>\n      <td>5.0</td>\n      <td>40.0</td>\n      <td>13.0</td>\n      <td>...</td>\n      <td>0.0</td>\n      <td>0.0</td>\n      <td>9</td>\n      <td>0.0</td>\n      <td>2.0</td>\n      <td>2.0</td>\n      <td>1461</td>\n      <td>51.0</td>\n      <td>138.0</td>\n      <td>437.0</td>\n    </tr>\n    <tr>\n      <th>3</th>\n      <td>3</td>\n      <td>2012-01-04</td>\n      <td>2.0</td>\n      <td>0.0</td>\n      <td>0.0</td>\n      <td>0.0</td>\n      <td>211</td>\n      <td>1.0</td>\n      <td>27.0</td>\n      <td>3.0</td>\n      <td>...</td>\n      <td>0.0</td>\n      <td>0.0</td>\n      <td>11</td>\n      <td>1.0</td>\n      <td>0.0</td>\n      <td>5.0</td>\n      <td>1680</td>\n      <td>57.0</td>\n      <td>114.0</td>\n      <td>586.0</td>\n    </tr>\n    <tr>\n      <th>4</th>\n      <td>4</td>\n      <td>2012-01-05</td>\n      <td>9.0</td>\n      <td>0.0</td>\n      <td>0.0</td>\n      <td>0.0</td>\n      <td>204</td>\n      <td>0.0</td>\n      <td>41.0</td>\n      <td>8.0</td>\n      <td>...</td>\n      <td>0.0</td>\n      <td>0.0</td>\n      <td>11</td>\n      <td>0.0</td>\n      <td>2.0</td>\n      <td>0.0</td>\n      <td>1694</td>\n      <td>43.0</td>\n      <td>120.0</td>\n      <td>436.0</td>\n    </tr>\n  </tbody>\n</table>\n<p>5 rows × 142 columns</p>\n</div>"
     },
     "metadata": {},
     "output_type": "execute_result",
     "execution_count": 27
    }
   ],
   "source": [
    "agg.head()"
   ],
   "metadata": {
    "collapsed": false,
    "pycharm": {
     "name": "#%%\n",
     "is_executing": false
    }
   }
  },
  {
   "cell_type": "markdown",
   "source": [
    "This operation gives us the above aggregated Dataframe containing the number of tweets, likes, replies and retweets per day per topic"
   ],
   "metadata": {
    "collapsed": false,
    "pycharm": {
     "name": "#%% md\n"
    }
   }
  }
 ],
 "metadata": {
  "kernelspec": {
   "display_name": "Python 3",
   "language": "python",
   "name": "python3"
  },
  "language_info": {
   "codemirror_mode": {
    "name": "ipython",
    "version": 2
   },
   "file_extension": ".py",
   "mimetype": "text/x-python",
   "name": "python",
   "nbconvert_exporter": "python",
   "pygments_lexer": "ipython2",
   "version": "2.7.6"
  },
  "pycharm": {
   "stem_cell": {
    "cell_type": "raw",
    "source": [],
    "metadata": {
     "collapsed": false
    }
   }
  }
 },
 "nbformat": 4,
 "nbformat_minor": 0
}