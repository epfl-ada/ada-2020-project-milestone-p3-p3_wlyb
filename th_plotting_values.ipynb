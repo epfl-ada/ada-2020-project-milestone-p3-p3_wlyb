{
 "cells": [
  {
   "cell_type": "markdown",
   "metadata": {},
   "source": [
    "## Analysis of the tweets\n",
    "\n",
    "We will now focus on getting and understanding of the tweet distribution over time, and how the massive revelations of online surveillance in June 2013 might have cause a chilling cffect."
   ]
  },
  {
   "cell_type": "code",
   "execution_count": 1,
   "metadata": {},
   "outputs": [],
   "source": [
    "import glob\n",
    "import pandas as pd"
   ]
  },
  {
   "cell_type": "code",
   "execution_count": 2,
   "metadata": {},
   "outputs": [
    {
     "name": "stdout",
     "output_type": "stream",
     "text": [
      "Found 44 archives\n"
     ]
    }
   ],
   "source": [
    "archive_pathnames = glob.glob('./data/*.gz')\n",
    "print(f\"Found {len(archive_pathnames)} archives\")"
   ]
  },
  {
   "cell_type": "code",
   "execution_count": 7,
   "metadata": {},
   "outputs": [
    {
     "name": "stdout",
     "output_type": "stream",
     "text": [
      "            date  likes_count\n",
      "0     2014-09-01          0.0\n",
      "1     2014-09-01          1.0\n",
      "2     2014-09-01          0.0\n",
      "3     2014-09-01          0.0\n",
      "4     2014-09-01          1.0\n",
      "...          ...          ...\n",
      "9294  2012-01-02          0.0\n",
      "9295  2012-01-02          0.0\n",
      "9296  2012-01-01          0.0\n",
      "9297  2012-01-01          0.0\n",
      "9298  2012-01-01          0.0\n",
      "\n",
      "[9299 rows x 2 columns]\n"
     ]
    }
   ],
   "source": [
    "# print(pd.read_csv(archive_pathnames[0], usecols=[\"date\", \"likes_count\"]))\n",
    "\n",
    "for archive_pathname in archive_pathnames\n",
    "    print(f\"Reading {archive_pathname} file\")\n",
    "    df = pd.read_csv(archive_pathname, usecols=[\"date\", \"likes_count\"])\n",
    "    print(f\"Shape is : {df.shape} \\n\")"
   ]
  },
  {
   "cell_type": "code",
   "execution_count": null,
   "metadata": {},
   "outputs": [],
   "source": []
  }
 ],
 "metadata": {
  "environment": {
   "name": "common-cpu.m59",
   "type": "gcloud",
   "uri": "gcr.io/deeplearning-platform-release/base-cpu:m59"
  },
  "kernelspec": {
   "display_name": "Python 3",
   "language": "python",
   "name": "python3"
  },
  "language_info": {
   "codemirror_mode": {
    "name": "ipython",
    "version": 3
   },
   "file_extension": ".py",
   "mimetype": "text/x-python",
   "name": "python",
   "nbconvert_exporter": "python",
   "pygments_lexer": "ipython3",
   "version": "3.7.8"
  }
 },
 "nbformat": 4,
 "nbformat_minor": 4
}
